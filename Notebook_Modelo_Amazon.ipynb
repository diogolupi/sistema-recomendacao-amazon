{
  "nbformat": 4,
  "nbformat_minor": 0,
  "metadata": {
    "colab": {
      "provenance": []
    },
    "kernelspec": {
      "name": "python3",
      "display_name": "Python 3"
    },
    "language_info": {
      "name": "python"
    }
  },
  "cells": [
    {
      "cell_type": "markdown",
      "source": [
        "# Estudo de Caso 1: Sistemas de Recomendação na Amazon\n",
        "\n",
        "## Introdução\n",
        "\n",
        "Este estudo explora a construção de sistemas de recomendação aplicados ao ambiente de comércio eletrônico da Amazon. Os sistemas de recomendação são ferramentas indispensáveis para personalizar a experiência do usuário e aumentar a eficiência das vendas online. O objetivo principal é desenvolver um modelo capaz de sugerir produtos relevantes para os clientes com base em seus históricos de interações.\n",
        "\n",
        "O conjunto de dados utilizado faz parte do [Amazon Electronics Rating Dataset](https://www.kaggle.com/datasets/vibivij/amazon-electronics-rating-datasetrecommendation/data), contendo informações sobre avaliações realizadas por usuários, como identificadores de usuários e produtos, além das notas atribuídas. Este estudo segue as seguintes etapas:\n",
        "- Análise exploratória do conjunto de dados.\n",
        "- Implementação de modelos de recomendação utilizando os algoritmos KNN e K-Means.\n",
        "- Comparação do desempenho entre as abordagens, com base em métricas específicas.\n",
        "- Discussão das diferenças metodológicas e dos resultados obtidos.\n",
        "- Propostas de melhorias no sistema de recomendação.\n",
        "\n",
        "Com isso, busca-se não apenas atender aos objetivos técnicos do estudo, mas também explorar os desafios e potencialidades associados à criação de sistemas de recomendação em larga escala.\n",
        "\n",
        "---"
      ],
      "metadata": {
        "id": "uMF_9RiK1yRk"
      }
    },
    {
      "cell_type": "markdown",
      "source": [
        "# Contexto da Base de Dados\n",
        "\n",
        "A base de dados utilizada neste estudo foi criada com o objetivo de analisar o comportamento dos consumidores da Amazon, particularmente no domínio das avaliações de produtos eletrônicos. O conjunto de dados é uma fonte rica para entender as interações dos usuários com produtos e serve como base para a construção de sistemas de recomendação.\n",
        "\n",
        "## Características\n",
        "\n",
        "- **Estrutura Simples**: O dataset contém informações sobre as interações de usuários com produtos eletrônicos.\n",
        "- **Atributos Incluídos**:\n",
        "  - **userId**: Identificador exclusivo de cada usuário.\n",
        "  - **productId**: Identificador exclusivo de cada produto.\n",
        "  - **Rating**: Nota atribuída pelo usuário ao produto (escala de 1 a 5).\n",
        "  - **Timestamp**: Data e hora da avaliação (não utilizada neste estudo).\n",
        "- **Objetivo**: Servir como base para a construção de um sistema de recomendação capaz de identificar produtos relevantes para os consumidores, com base no histórico de avaliações.\n",
        "\n",
        "## Observações Importantes\n",
        "\n",
        "- Os dados são reais e refletem padrões típicos de consumo e avaliação de produtos eletrônicos.\n",
        "- O atributo `Rating` será o foco principal da análise, pois representa as preferências do usuário e permite inferir padrões de recomendação.\n",
        "- Embora o `Timestamp` esteja presente, ele não será utilizado, uma vez que o objetivo não envolve análises temporais.\n",
        "\n",
        "Este conjunto de dados oferece uma excelente oportunidade para explorar técnicas de sistemas de recomendação e entender as preferências dos consumidores no ambiente de comércio eletrônico.\n"
      ],
      "metadata": {
        "id": "LQa_GMA0X5VB"
      }
    },
    {
      "cell_type": "markdown",
      "source": [
        "# Bibliotecas"
      ],
      "metadata": {
        "id": "pu7CZwAF1zcs"
      }
    },
    {
      "cell_type": "code",
      "execution_count": null,
      "metadata": {
        "id": "qqXTJ3xR1r3w"
      },
      "outputs": [],
      "source": [
        "import pandas as pd\n",
        "import matplotlib.pyplot as plt\n",
        "from sklearn.neighbors import NearestNeighbors\n",
        "from scipy.sparse import csr_matrix\n",
        "import numpy as np\n",
        "from sklearn.metrics import mean_squared_error, mean_absolute_error\n",
        "from math import sqrt\n",
        "from sklearn.cluster import KMeans\n",
        "from sklearn.metrics import silhouette_score\n",
        "import matplotlib.pyplot as plt"
      ]
    },
    {
      "cell_type": "markdown",
      "source": [
        "# Importação dos Dados"
      ],
      "metadata": {
        "id": "akyY24aZ10_U"
      }
    },
    {
      "cell_type": "code",
      "source": [
        "df = pd.read_csv('ratings_Electronics.csv')\n",
        "df.head()"
      ],
      "metadata": {
        "colab": {
          "base_uri": "https://localhost:8080/",
          "height": 206
        },
        "id": "lToWpdzT129w",
        "outputId": "bb69119d-b409-4c34-b7d0-33d1e6cf6738"
      },
      "execution_count": null,
      "outputs": [
        {
          "output_type": "execute_result",
          "data": {
            "text/plain": [
              "    AKM1MP6P0OYPR  0132793040  5.0  1365811200\n",
              "0  A2CX7LUOHB2NDG  0321732944  5.0  1341100800\n",
              "1  A2NWSAGRHCP8N5  0439886341  1.0  1367193600\n",
              "2  A2WNBOD3WNDNKT  0439886341  3.0  1374451200\n",
              "3  A1GI0U4ZRJA8WN  0439886341  1.0  1334707200\n",
              "4  A1QGNMC6O1VW39  0511189877  5.0  1397433600"
            ],
            "text/html": [
              "\n",
              "  <div id=\"df-85224a50-6dc3-4b06-ba4a-e13fc392004a\" class=\"colab-df-container\">\n",
              "    <div>\n",
              "<style scoped>\n",
              "    .dataframe tbody tr th:only-of-type {\n",
              "        vertical-align: middle;\n",
              "    }\n",
              "\n",
              "    .dataframe tbody tr th {\n",
              "        vertical-align: top;\n",
              "    }\n",
              "\n",
              "    .dataframe thead th {\n",
              "        text-align: right;\n",
              "    }\n",
              "</style>\n",
              "<table border=\"1\" class=\"dataframe\">\n",
              "  <thead>\n",
              "    <tr style=\"text-align: right;\">\n",
              "      <th></th>\n",
              "      <th>AKM1MP6P0OYPR</th>\n",
              "      <th>0132793040</th>\n",
              "      <th>5.0</th>\n",
              "      <th>1365811200</th>\n",
              "    </tr>\n",
              "  </thead>\n",
              "  <tbody>\n",
              "    <tr>\n",
              "      <th>0</th>\n",
              "      <td>A2CX7LUOHB2NDG</td>\n",
              "      <td>0321732944</td>\n",
              "      <td>5.0</td>\n",
              "      <td>1341100800</td>\n",
              "    </tr>\n",
              "    <tr>\n",
              "      <th>1</th>\n",
              "      <td>A2NWSAGRHCP8N5</td>\n",
              "      <td>0439886341</td>\n",
              "      <td>1.0</td>\n",
              "      <td>1367193600</td>\n",
              "    </tr>\n",
              "    <tr>\n",
              "      <th>2</th>\n",
              "      <td>A2WNBOD3WNDNKT</td>\n",
              "      <td>0439886341</td>\n",
              "      <td>3.0</td>\n",
              "      <td>1374451200</td>\n",
              "    </tr>\n",
              "    <tr>\n",
              "      <th>3</th>\n",
              "      <td>A1GI0U4ZRJA8WN</td>\n",
              "      <td>0439886341</td>\n",
              "      <td>1.0</td>\n",
              "      <td>1334707200</td>\n",
              "    </tr>\n",
              "    <tr>\n",
              "      <th>4</th>\n",
              "      <td>A1QGNMC6O1VW39</td>\n",
              "      <td>0511189877</td>\n",
              "      <td>5.0</td>\n",
              "      <td>1397433600</td>\n",
              "    </tr>\n",
              "  </tbody>\n",
              "</table>\n",
              "</div>\n",
              "    <div class=\"colab-df-buttons\">\n",
              "\n",
              "  <div class=\"colab-df-container\">\n",
              "    <button class=\"colab-df-convert\" onclick=\"convertToInteractive('df-85224a50-6dc3-4b06-ba4a-e13fc392004a')\"\n",
              "            title=\"Convert this dataframe to an interactive table.\"\n",
              "            style=\"display:none;\">\n",
              "\n",
              "  <svg xmlns=\"http://www.w3.org/2000/svg\" height=\"24px\" viewBox=\"0 -960 960 960\">\n",
              "    <path d=\"M120-120v-720h720v720H120Zm60-500h600v-160H180v160Zm220 220h160v-160H400v160Zm0 220h160v-160H400v160ZM180-400h160v-160H180v160Zm440 0h160v-160H620v160ZM180-180h160v-160H180v160Zm440 0h160v-160H620v160Z\"/>\n",
              "  </svg>\n",
              "    </button>\n",
              "\n",
              "  <style>\n",
              "    .colab-df-container {\n",
              "      display:flex;\n",
              "      gap: 12px;\n",
              "    }\n",
              "\n",
              "    .colab-df-convert {\n",
              "      background-color: #E8F0FE;\n",
              "      border: none;\n",
              "      border-radius: 50%;\n",
              "      cursor: pointer;\n",
              "      display: none;\n",
              "      fill: #1967D2;\n",
              "      height: 32px;\n",
              "      padding: 0 0 0 0;\n",
              "      width: 32px;\n",
              "    }\n",
              "\n",
              "    .colab-df-convert:hover {\n",
              "      background-color: #E2EBFA;\n",
              "      box-shadow: 0px 1px 2px rgba(60, 64, 67, 0.3), 0px 1px 3px 1px rgba(60, 64, 67, 0.15);\n",
              "      fill: #174EA6;\n",
              "    }\n",
              "\n",
              "    .colab-df-buttons div {\n",
              "      margin-bottom: 4px;\n",
              "    }\n",
              "\n",
              "    [theme=dark] .colab-df-convert {\n",
              "      background-color: #3B4455;\n",
              "      fill: #D2E3FC;\n",
              "    }\n",
              "\n",
              "    [theme=dark] .colab-df-convert:hover {\n",
              "      background-color: #434B5C;\n",
              "      box-shadow: 0px 1px 3px 1px rgba(0, 0, 0, 0.15);\n",
              "      filter: drop-shadow(0px 1px 2px rgba(0, 0, 0, 0.3));\n",
              "      fill: #FFFFFF;\n",
              "    }\n",
              "  </style>\n",
              "\n",
              "    <script>\n",
              "      const buttonEl =\n",
              "        document.querySelector('#df-85224a50-6dc3-4b06-ba4a-e13fc392004a button.colab-df-convert');\n",
              "      buttonEl.style.display =\n",
              "        google.colab.kernel.accessAllowed ? 'block' : 'none';\n",
              "\n",
              "      async function convertToInteractive(key) {\n",
              "        const element = document.querySelector('#df-85224a50-6dc3-4b06-ba4a-e13fc392004a');\n",
              "        const dataTable =\n",
              "          await google.colab.kernel.invokeFunction('convertToInteractive',\n",
              "                                                    [key], {});\n",
              "        if (!dataTable) return;\n",
              "\n",
              "        const docLinkHtml = 'Like what you see? Visit the ' +\n",
              "          '<a target=\"_blank\" href=https://colab.research.google.com/notebooks/data_table.ipynb>data table notebook</a>'\n",
              "          + ' to learn more about interactive tables.';\n",
              "        element.innerHTML = '';\n",
              "        dataTable['output_type'] = 'display_data';\n",
              "        await google.colab.output.renderOutput(dataTable, element);\n",
              "        const docLink = document.createElement('div');\n",
              "        docLink.innerHTML = docLinkHtml;\n",
              "        element.appendChild(docLink);\n",
              "      }\n",
              "    </script>\n",
              "  </div>\n",
              "\n",
              "\n",
              "<div id=\"df-b38e103b-a3c9-4603-8483-51898bfd2b9c\">\n",
              "  <button class=\"colab-df-quickchart\" onclick=\"quickchart('df-b38e103b-a3c9-4603-8483-51898bfd2b9c')\"\n",
              "            title=\"Suggest charts\"\n",
              "            style=\"display:none;\">\n",
              "\n",
              "<svg xmlns=\"http://www.w3.org/2000/svg\" height=\"24px\"viewBox=\"0 0 24 24\"\n",
              "     width=\"24px\">\n",
              "    <g>\n",
              "        <path d=\"M19 3H5c-1.1 0-2 .9-2 2v14c0 1.1.9 2 2 2h14c1.1 0 2-.9 2-2V5c0-1.1-.9-2-2-2zM9 17H7v-7h2v7zm4 0h-2V7h2v10zm4 0h-2v-4h2v4z\"/>\n",
              "    </g>\n",
              "</svg>\n",
              "  </button>\n",
              "\n",
              "<style>\n",
              "  .colab-df-quickchart {\n",
              "      --bg-color: #E8F0FE;\n",
              "      --fill-color: #1967D2;\n",
              "      --hover-bg-color: #E2EBFA;\n",
              "      --hover-fill-color: #174EA6;\n",
              "      --disabled-fill-color: #AAA;\n",
              "      --disabled-bg-color: #DDD;\n",
              "  }\n",
              "\n",
              "  [theme=dark] .colab-df-quickchart {\n",
              "      --bg-color: #3B4455;\n",
              "      --fill-color: #D2E3FC;\n",
              "      --hover-bg-color: #434B5C;\n",
              "      --hover-fill-color: #FFFFFF;\n",
              "      --disabled-bg-color: #3B4455;\n",
              "      --disabled-fill-color: #666;\n",
              "  }\n",
              "\n",
              "  .colab-df-quickchart {\n",
              "    background-color: var(--bg-color);\n",
              "    border: none;\n",
              "    border-radius: 50%;\n",
              "    cursor: pointer;\n",
              "    display: none;\n",
              "    fill: var(--fill-color);\n",
              "    height: 32px;\n",
              "    padding: 0;\n",
              "    width: 32px;\n",
              "  }\n",
              "\n",
              "  .colab-df-quickchart:hover {\n",
              "    background-color: var(--hover-bg-color);\n",
              "    box-shadow: 0 1px 2px rgba(60, 64, 67, 0.3), 0 1px 3px 1px rgba(60, 64, 67, 0.15);\n",
              "    fill: var(--button-hover-fill-color);\n",
              "  }\n",
              "\n",
              "  .colab-df-quickchart-complete:disabled,\n",
              "  .colab-df-quickchart-complete:disabled:hover {\n",
              "    background-color: var(--disabled-bg-color);\n",
              "    fill: var(--disabled-fill-color);\n",
              "    box-shadow: none;\n",
              "  }\n",
              "\n",
              "  .colab-df-spinner {\n",
              "    border: 2px solid var(--fill-color);\n",
              "    border-color: transparent;\n",
              "    border-bottom-color: var(--fill-color);\n",
              "    animation:\n",
              "      spin 1s steps(1) infinite;\n",
              "  }\n",
              "\n",
              "  @keyframes spin {\n",
              "    0% {\n",
              "      border-color: transparent;\n",
              "      border-bottom-color: var(--fill-color);\n",
              "      border-left-color: var(--fill-color);\n",
              "    }\n",
              "    20% {\n",
              "      border-color: transparent;\n",
              "      border-left-color: var(--fill-color);\n",
              "      border-top-color: var(--fill-color);\n",
              "    }\n",
              "    30% {\n",
              "      border-color: transparent;\n",
              "      border-left-color: var(--fill-color);\n",
              "      border-top-color: var(--fill-color);\n",
              "      border-right-color: var(--fill-color);\n",
              "    }\n",
              "    40% {\n",
              "      border-color: transparent;\n",
              "      border-right-color: var(--fill-color);\n",
              "      border-top-color: var(--fill-color);\n",
              "    }\n",
              "    60% {\n",
              "      border-color: transparent;\n",
              "      border-right-color: var(--fill-color);\n",
              "    }\n",
              "    80% {\n",
              "      border-color: transparent;\n",
              "      border-right-color: var(--fill-color);\n",
              "      border-bottom-color: var(--fill-color);\n",
              "    }\n",
              "    90% {\n",
              "      border-color: transparent;\n",
              "      border-bottom-color: var(--fill-color);\n",
              "    }\n",
              "  }\n",
              "</style>\n",
              "\n",
              "  <script>\n",
              "    async function quickchart(key) {\n",
              "      const quickchartButtonEl =\n",
              "        document.querySelector('#' + key + ' button');\n",
              "      quickchartButtonEl.disabled = true;  // To prevent multiple clicks.\n",
              "      quickchartButtonEl.classList.add('colab-df-spinner');\n",
              "      try {\n",
              "        const charts = await google.colab.kernel.invokeFunction(\n",
              "            'suggestCharts', [key], {});\n",
              "      } catch (error) {\n",
              "        console.error('Error during call to suggestCharts:', error);\n",
              "      }\n",
              "      quickchartButtonEl.classList.remove('colab-df-spinner');\n",
              "      quickchartButtonEl.classList.add('colab-df-quickchart-complete');\n",
              "    }\n",
              "    (() => {\n",
              "      let quickchartButtonEl =\n",
              "        document.querySelector('#df-b38e103b-a3c9-4603-8483-51898bfd2b9c button');\n",
              "      quickchartButtonEl.style.display =\n",
              "        google.colab.kernel.accessAllowed ? 'block' : 'none';\n",
              "    })();\n",
              "  </script>\n",
              "</div>\n",
              "\n",
              "    </div>\n",
              "  </div>\n"
            ],
            "application/vnd.google.colaboratory.intrinsic+json": {
              "type": "dataframe",
              "variable_name": "df"
            }
          },
          "metadata": {},
          "execution_count": 2
        }
      ]
    },
    {
      "cell_type": "markdown",
      "source": [
        "# Visualização dos Dados"
      ],
      "metadata": {
        "id": "kqjz-DbEYkUb"
      }
    },
    {
      "cell_type": "code",
      "source": [
        "# Verificar o número de linhas e colunas do DataFrame\n",
        "rows, columns = df.shape\n",
        "print(f\"O DataFrame possui {rows} linhas e {columns} colunas.\")"
      ],
      "metadata": {
        "colab": {
          "base_uri": "https://localhost:8080/"
        },
        "id": "xTbJVgd9YnYY",
        "outputId": "874fdf39-ed26-4165-e83d-1ba60297f0e0"
      },
      "execution_count": null,
      "outputs": [
        {
          "output_type": "stream",
          "name": "stdout",
          "text": [
            "O DataFrame possui 7824481 linhas e 4 colunas.\n"
          ]
        }
      ]
    },
    {
      "cell_type": "code",
      "source": [
        "# Verificar colunas com valores nulos e exibi-las\n",
        "missing_data_info = df.isnull().sum().sort_values(ascending=False)\n",
        "missing_data_df = pd.DataFrame({\n",
        "    'Coluna': missing_data_info.index,\n",
        "    'Valores Ausentes': missing_data_info.values,\n",
        "    'Percentual (%)': (missing_data_info.values / len(df)) * 100\n",
        "})\n",
        "\n",
        "# Filtrar apenas colunas com valores ausentes\n",
        "missing_data_df = missing_data_df[missing_data_df['Valores Ausentes'] > 0]\n",
        "print(missing_data_df)"
      ],
      "metadata": {
        "colab": {
          "base_uri": "https://localhost:8080/"
        },
        "id": "jNjmmvMpYnHn",
        "outputId": "7733d81e-4330-4510-d6aa-08e1e7fd28d0"
      },
      "execution_count": null,
      "outputs": [
        {
          "output_type": "stream",
          "name": "stdout",
          "text": [
            "Empty DataFrame\n",
            "Columns: [Coluna, Valores Ausentes, Percentual (%)]\n",
            "Index: []\n"
          ]
        }
      ]
    },
    {
      "cell_type": "code",
      "source": [
        "# Verificar duplicatas\n",
        "duplicate_rows = df.duplicated().sum()\n",
        "print(f\"Número de linhas duplicadas: {duplicate_rows}\")\n",
        "\n",
        "# Remover duplicatas, se existirem\n",
        "df = df.drop_duplicates()"
      ],
      "metadata": {
        "colab": {
          "base_uri": "https://localhost:8080/"
        },
        "id": "ARksparUYvAO",
        "outputId": "c0284b5a-e053-4d60-8731-9262b30d268d"
      },
      "execution_count": null,
      "outputs": [
        {
          "output_type": "stream",
          "name": "stdout",
          "text": [
            "Número de linhas duplicadas: 0\n"
          ]
        }
      ]
    },
    {
      "cell_type": "code",
      "source": [
        "df.info()"
      ],
      "metadata": {
        "colab": {
          "base_uri": "https://localhost:8080/"
        },
        "id": "DOg_Yi9AYzKW",
        "outputId": "c7759eea-f6f1-4878-e9ab-4cf134ad7e2f"
      },
      "execution_count": null,
      "outputs": [
        {
          "output_type": "stream",
          "name": "stdout",
          "text": [
            "<class 'pandas.core.frame.DataFrame'>\n",
            "RangeIndex: 7824481 entries, 0 to 7824480\n",
            "Data columns (total 4 columns):\n",
            " #   Column         Dtype  \n",
            "---  ------         -----  \n",
            " 0   AKM1MP6P0OYPR  object \n",
            " 1   0132793040     object \n",
            " 2   5.0            float64\n",
            " 3   1365811200     int64  \n",
            "dtypes: float64(1), int64(1), object(2)\n",
            "memory usage: 238.8+ MB\n"
          ]
        }
      ]
    },
    {
      "cell_type": "markdown",
      "source": [
        "# Transformação dos Dados"
      ],
      "metadata": {
        "id": "TJpHydrJY1dZ"
      }
    },
    {
      "cell_type": "code",
      "source": [
        "# Renomeando as colunas do DataFrame\n",
        "df.columns = ['userId', 'productId', 'rating', 'timestamp']\n",
        "\n",
        "# Exibindo as primeiras linhas para verificar\n",
        "df.head()"
      ],
      "metadata": {
        "colab": {
          "base_uri": "https://localhost:8080/",
          "height": 206
        },
        "id": "VcfAXBESY5no",
        "outputId": "e28b64e1-0df0-4c3f-db5a-c6cc96fa4880"
      },
      "execution_count": null,
      "outputs": [
        {
          "output_type": "execute_result",
          "data": {
            "text/plain": [
              "           userId   productId  rating   timestamp\n",
              "0  A2CX7LUOHB2NDG  0321732944     5.0  1341100800\n",
              "1  A2NWSAGRHCP8N5  0439886341     1.0  1367193600\n",
              "2  A2WNBOD3WNDNKT  0439886341     3.0  1374451200\n",
              "3  A1GI0U4ZRJA8WN  0439886341     1.0  1334707200\n",
              "4  A1QGNMC6O1VW39  0511189877     5.0  1397433600"
            ],
            "text/html": [
              "\n",
              "  <div id=\"df-ccdb2112-b258-4758-9f3b-711d0c0e0f9e\" class=\"colab-df-container\">\n",
              "    <div>\n",
              "<style scoped>\n",
              "    .dataframe tbody tr th:only-of-type {\n",
              "        vertical-align: middle;\n",
              "    }\n",
              "\n",
              "    .dataframe tbody tr th {\n",
              "        vertical-align: top;\n",
              "    }\n",
              "\n",
              "    .dataframe thead th {\n",
              "        text-align: right;\n",
              "    }\n",
              "</style>\n",
              "<table border=\"1\" class=\"dataframe\">\n",
              "  <thead>\n",
              "    <tr style=\"text-align: right;\">\n",
              "      <th></th>\n",
              "      <th>userId</th>\n",
              "      <th>productId</th>\n",
              "      <th>rating</th>\n",
              "      <th>timestamp</th>\n",
              "    </tr>\n",
              "  </thead>\n",
              "  <tbody>\n",
              "    <tr>\n",
              "      <th>0</th>\n",
              "      <td>A2CX7LUOHB2NDG</td>\n",
              "      <td>0321732944</td>\n",
              "      <td>5.0</td>\n",
              "      <td>1341100800</td>\n",
              "    </tr>\n",
              "    <tr>\n",
              "      <th>1</th>\n",
              "      <td>A2NWSAGRHCP8N5</td>\n",
              "      <td>0439886341</td>\n",
              "      <td>1.0</td>\n",
              "      <td>1367193600</td>\n",
              "    </tr>\n",
              "    <tr>\n",
              "      <th>2</th>\n",
              "      <td>A2WNBOD3WNDNKT</td>\n",
              "      <td>0439886341</td>\n",
              "      <td>3.0</td>\n",
              "      <td>1374451200</td>\n",
              "    </tr>\n",
              "    <tr>\n",
              "      <th>3</th>\n",
              "      <td>A1GI0U4ZRJA8WN</td>\n",
              "      <td>0439886341</td>\n",
              "      <td>1.0</td>\n",
              "      <td>1334707200</td>\n",
              "    </tr>\n",
              "    <tr>\n",
              "      <th>4</th>\n",
              "      <td>A1QGNMC6O1VW39</td>\n",
              "      <td>0511189877</td>\n",
              "      <td>5.0</td>\n",
              "      <td>1397433600</td>\n",
              "    </tr>\n",
              "  </tbody>\n",
              "</table>\n",
              "</div>\n",
              "    <div class=\"colab-df-buttons\">\n",
              "\n",
              "  <div class=\"colab-df-container\">\n",
              "    <button class=\"colab-df-convert\" onclick=\"convertToInteractive('df-ccdb2112-b258-4758-9f3b-711d0c0e0f9e')\"\n",
              "            title=\"Convert this dataframe to an interactive table.\"\n",
              "            style=\"display:none;\">\n",
              "\n",
              "  <svg xmlns=\"http://www.w3.org/2000/svg\" height=\"24px\" viewBox=\"0 -960 960 960\">\n",
              "    <path d=\"M120-120v-720h720v720H120Zm60-500h600v-160H180v160Zm220 220h160v-160H400v160Zm0 220h160v-160H400v160ZM180-400h160v-160H180v160Zm440 0h160v-160H620v160ZM180-180h160v-160H180v160Zm440 0h160v-160H620v160Z\"/>\n",
              "  </svg>\n",
              "    </button>\n",
              "\n",
              "  <style>\n",
              "    .colab-df-container {\n",
              "      display:flex;\n",
              "      gap: 12px;\n",
              "    }\n",
              "\n",
              "    .colab-df-convert {\n",
              "      background-color: #E8F0FE;\n",
              "      border: none;\n",
              "      border-radius: 50%;\n",
              "      cursor: pointer;\n",
              "      display: none;\n",
              "      fill: #1967D2;\n",
              "      height: 32px;\n",
              "      padding: 0 0 0 0;\n",
              "      width: 32px;\n",
              "    }\n",
              "\n",
              "    .colab-df-convert:hover {\n",
              "      background-color: #E2EBFA;\n",
              "      box-shadow: 0px 1px 2px rgba(60, 64, 67, 0.3), 0px 1px 3px 1px rgba(60, 64, 67, 0.15);\n",
              "      fill: #174EA6;\n",
              "    }\n",
              "\n",
              "    .colab-df-buttons div {\n",
              "      margin-bottom: 4px;\n",
              "    }\n",
              "\n",
              "    [theme=dark] .colab-df-convert {\n",
              "      background-color: #3B4455;\n",
              "      fill: #D2E3FC;\n",
              "    }\n",
              "\n",
              "    [theme=dark] .colab-df-convert:hover {\n",
              "      background-color: #434B5C;\n",
              "      box-shadow: 0px 1px 3px 1px rgba(0, 0, 0, 0.15);\n",
              "      filter: drop-shadow(0px 1px 2px rgba(0, 0, 0, 0.3));\n",
              "      fill: #FFFFFF;\n",
              "    }\n",
              "  </style>\n",
              "\n",
              "    <script>\n",
              "      const buttonEl =\n",
              "        document.querySelector('#df-ccdb2112-b258-4758-9f3b-711d0c0e0f9e button.colab-df-convert');\n",
              "      buttonEl.style.display =\n",
              "        google.colab.kernel.accessAllowed ? 'block' : 'none';\n",
              "\n",
              "      async function convertToInteractive(key) {\n",
              "        const element = document.querySelector('#df-ccdb2112-b258-4758-9f3b-711d0c0e0f9e');\n",
              "        const dataTable =\n",
              "          await google.colab.kernel.invokeFunction('convertToInteractive',\n",
              "                                                    [key], {});\n",
              "        if (!dataTable) return;\n",
              "\n",
              "        const docLinkHtml = 'Like what you see? Visit the ' +\n",
              "          '<a target=\"_blank\" href=https://colab.research.google.com/notebooks/data_table.ipynb>data table notebook</a>'\n",
              "          + ' to learn more about interactive tables.';\n",
              "        element.innerHTML = '';\n",
              "        dataTable['output_type'] = 'display_data';\n",
              "        await google.colab.output.renderOutput(dataTable, element);\n",
              "        const docLink = document.createElement('div');\n",
              "        docLink.innerHTML = docLinkHtml;\n",
              "        element.appendChild(docLink);\n",
              "      }\n",
              "    </script>\n",
              "  </div>\n",
              "\n",
              "\n",
              "<div id=\"df-6b7ab60e-5615-485a-ac0f-a3dc17dde120\">\n",
              "  <button class=\"colab-df-quickchart\" onclick=\"quickchart('df-6b7ab60e-5615-485a-ac0f-a3dc17dde120')\"\n",
              "            title=\"Suggest charts\"\n",
              "            style=\"display:none;\">\n",
              "\n",
              "<svg xmlns=\"http://www.w3.org/2000/svg\" height=\"24px\"viewBox=\"0 0 24 24\"\n",
              "     width=\"24px\">\n",
              "    <g>\n",
              "        <path d=\"M19 3H5c-1.1 0-2 .9-2 2v14c0 1.1.9 2 2 2h14c1.1 0 2-.9 2-2V5c0-1.1-.9-2-2-2zM9 17H7v-7h2v7zm4 0h-2V7h2v10zm4 0h-2v-4h2v4z\"/>\n",
              "    </g>\n",
              "</svg>\n",
              "  </button>\n",
              "\n",
              "<style>\n",
              "  .colab-df-quickchart {\n",
              "      --bg-color: #E8F0FE;\n",
              "      --fill-color: #1967D2;\n",
              "      --hover-bg-color: #E2EBFA;\n",
              "      --hover-fill-color: #174EA6;\n",
              "      --disabled-fill-color: #AAA;\n",
              "      --disabled-bg-color: #DDD;\n",
              "  }\n",
              "\n",
              "  [theme=dark] .colab-df-quickchart {\n",
              "      --bg-color: #3B4455;\n",
              "      --fill-color: #D2E3FC;\n",
              "      --hover-bg-color: #434B5C;\n",
              "      --hover-fill-color: #FFFFFF;\n",
              "      --disabled-bg-color: #3B4455;\n",
              "      --disabled-fill-color: #666;\n",
              "  }\n",
              "\n",
              "  .colab-df-quickchart {\n",
              "    background-color: var(--bg-color);\n",
              "    border: none;\n",
              "    border-radius: 50%;\n",
              "    cursor: pointer;\n",
              "    display: none;\n",
              "    fill: var(--fill-color);\n",
              "    height: 32px;\n",
              "    padding: 0;\n",
              "    width: 32px;\n",
              "  }\n",
              "\n",
              "  .colab-df-quickchart:hover {\n",
              "    background-color: var(--hover-bg-color);\n",
              "    box-shadow: 0 1px 2px rgba(60, 64, 67, 0.3), 0 1px 3px 1px rgba(60, 64, 67, 0.15);\n",
              "    fill: var(--button-hover-fill-color);\n",
              "  }\n",
              "\n",
              "  .colab-df-quickchart-complete:disabled,\n",
              "  .colab-df-quickchart-complete:disabled:hover {\n",
              "    background-color: var(--disabled-bg-color);\n",
              "    fill: var(--disabled-fill-color);\n",
              "    box-shadow: none;\n",
              "  }\n",
              "\n",
              "  .colab-df-spinner {\n",
              "    border: 2px solid var(--fill-color);\n",
              "    border-color: transparent;\n",
              "    border-bottom-color: var(--fill-color);\n",
              "    animation:\n",
              "      spin 1s steps(1) infinite;\n",
              "  }\n",
              "\n",
              "  @keyframes spin {\n",
              "    0% {\n",
              "      border-color: transparent;\n",
              "      border-bottom-color: var(--fill-color);\n",
              "      border-left-color: var(--fill-color);\n",
              "    }\n",
              "    20% {\n",
              "      border-color: transparent;\n",
              "      border-left-color: var(--fill-color);\n",
              "      border-top-color: var(--fill-color);\n",
              "    }\n",
              "    30% {\n",
              "      border-color: transparent;\n",
              "      border-left-color: var(--fill-color);\n",
              "      border-top-color: var(--fill-color);\n",
              "      border-right-color: var(--fill-color);\n",
              "    }\n",
              "    40% {\n",
              "      border-color: transparent;\n",
              "      border-right-color: var(--fill-color);\n",
              "      border-top-color: var(--fill-color);\n",
              "    }\n",
              "    60% {\n",
              "      border-color: transparent;\n",
              "      border-right-color: var(--fill-color);\n",
              "    }\n",
              "    80% {\n",
              "      border-color: transparent;\n",
              "      border-right-color: var(--fill-color);\n",
              "      border-bottom-color: var(--fill-color);\n",
              "    }\n",
              "    90% {\n",
              "      border-color: transparent;\n",
              "      border-bottom-color: var(--fill-color);\n",
              "    }\n",
              "  }\n",
              "</style>\n",
              "\n",
              "  <script>\n",
              "    async function quickchart(key) {\n",
              "      const quickchartButtonEl =\n",
              "        document.querySelector('#' + key + ' button');\n",
              "      quickchartButtonEl.disabled = true;  // To prevent multiple clicks.\n",
              "      quickchartButtonEl.classList.add('colab-df-spinner');\n",
              "      try {\n",
              "        const charts = await google.colab.kernel.invokeFunction(\n",
              "            'suggestCharts', [key], {});\n",
              "      } catch (error) {\n",
              "        console.error('Error during call to suggestCharts:', error);\n",
              "      }\n",
              "      quickchartButtonEl.classList.remove('colab-df-spinner');\n",
              "      quickchartButtonEl.classList.add('colab-df-quickchart-complete');\n",
              "    }\n",
              "    (() => {\n",
              "      let quickchartButtonEl =\n",
              "        document.querySelector('#df-6b7ab60e-5615-485a-ac0f-a3dc17dde120 button');\n",
              "      quickchartButtonEl.style.display =\n",
              "        google.colab.kernel.accessAllowed ? 'block' : 'none';\n",
              "    })();\n",
              "  </script>\n",
              "</div>\n",
              "\n",
              "    </div>\n",
              "  </div>\n"
            ],
            "application/vnd.google.colaboratory.intrinsic+json": {
              "type": "dataframe",
              "variable_name": "df"
            }
          },
          "metadata": {},
          "execution_count": 7
        }
      ]
    },
    {
      "cell_type": "code",
      "source": [
        "# Dropar a coluna timestamp\n",
        "df = df.drop(columns=['timestamp'])"
      ],
      "metadata": {
        "id": "_kiU3j8neEKP"
      },
      "execution_count": null,
      "outputs": []
    },
    {
      "cell_type": "markdown",
      "source": [
        "# Etapa 1: Análise Exploratória"
      ],
      "metadata": {
        "id": "xOjiPSsWZGqW"
      }
    },
    {
      "cell_type": "code",
      "source": [
        "# Contando a frequência de cada usuário\n",
        "top_users = df['userId'].value_counts().head(5)\n",
        "\n",
        "# Exibindo os resultados com f-string\n",
        "for i, (user, count) in enumerate(top_users.items(), start=1):\n",
        "    print(f\"Top {i}: Usuário '{user}' realizou {count} avaliações.\")"
      ],
      "metadata": {
        "colab": {
          "base_uri": "https://localhost:8080/"
        },
        "id": "2HyJOkvRZKhr",
        "outputId": "ef43f803-095a-4850-ecf5-cb543e46706e"
      },
      "execution_count": null,
      "outputs": [
        {
          "output_type": "stream",
          "name": "stdout",
          "text": [
            "Top 1: Usuário 'A5JLAU2ARJ0BO' realizou 520 avaliações.\n",
            "Top 2: Usuário 'ADLVFFE4VBT8' realizou 501 avaliações.\n",
            "Top 3: Usuário 'A3OXHLG6DIBRW8' realizou 498 avaliações.\n",
            "Top 4: Usuário 'A6FIAB28IS79' realizou 431 avaliações.\n",
            "Top 5: Usuário 'A680RUE1FDO8B' realizou 406 avaliações.\n"
          ]
        }
      ]
    },
    {
      "cell_type": "code",
      "source": [
        "# Calculando o número de avaliações e a média do rating por produto\n",
        "product_summary = df.groupby('productId').agg(\n",
        "    quantidade=('rating', 'count'),\n",
        "    media_rating=('rating', 'mean')\n",
        ").sort_values(by='quantidade', ascending=False).head(5)\n",
        "\n",
        "# Exibindo os resultados com f-string\n",
        "for i, (product, data) in enumerate(product_summary.iterrows(), start=1):\n",
        "    print(f\"Top {i}: Produto '{product}' foi avaliado {int(data['quantidade'])} vezes, com média de rating {data['media_rating']:.2f}.\")"
      ],
      "metadata": {
        "colab": {
          "base_uri": "https://localhost:8080/"
        },
        "id": "oPRFzzG4ZuOj",
        "outputId": "f66e723f-6e9d-442f-9fcc-f30b4f9fe850"
      },
      "execution_count": null,
      "outputs": [
        {
          "output_type": "stream",
          "name": "stdout",
          "text": [
            "Top 1: Produto 'B0074BW614' foi avaliado 18244 vezes, com média de rating 4.49.\n",
            "Top 2: Produto 'B00DR0PDNE' foi avaliado 16454 vezes, com média de rating 3.93.\n",
            "Top 3: Produto 'B007WTAJTO' foi avaliado 14172 vezes, com média de rating 4.42.\n",
            "Top 4: Produto 'B0019EHU8G' foi avaliado 12285 vezes, com média de rating 4.75.\n",
            "Top 5: Produto 'B006GWO5WK' foi avaliado 12226 vezes, com média de rating 4.31.\n"
          ]
        }
      ]
    },
    {
      "cell_type": "code",
      "source": [
        "# Produtos com piores avaliações\n",
        "worst_rated = df.groupby('productId')['rating'].mean().sort_values(ascending=True).head(5)\n",
        "print(\"Piores produtos:\", worst_rated)"
      ],
      "metadata": {
        "colab": {
          "base_uri": "https://localhost:8080/"
        },
        "id": "H6QYd1Xwah34",
        "outputId": "ccf5e586-f750-45f4-aa18-efefbd92866f"
      },
      "execution_count": null,
      "outputs": [
        {
          "output_type": "stream",
          "name": "stdout",
          "text": [
            "Piores produtos: productId\n",
            "B0063IZ8SM    1.0\n",
            "B00BQRMG44    1.0\n",
            "B001MXA50Y    1.0\n",
            "B004811DCQ    1.0\n",
            "B001MXBSPK    1.0\n",
            "Name: rating, dtype: float64\n"
          ]
        }
      ]
    },
    {
      "cell_type": "code",
      "source": [
        "# Produtos mais bem avaliados\n",
        "best_rated = df.groupby('productId')['rating'].mean().sort_values(ascending=False).head(5)\n",
        "print(\"Melhores produtos:\", best_rated)"
      ],
      "metadata": {
        "colab": {
          "base_uri": "https://localhost:8080/"
        },
        "id": "s5kGODbral64",
        "outputId": "45ab6a79-f162-432b-82ec-f807a27df05c"
      },
      "execution_count": null,
      "outputs": [
        {
          "output_type": "stream",
          "name": "stdout",
          "text": [
            "Melhores produtos: productId\n",
            "0321732944    5.0\n",
            "B004SGJ030    5.0\n",
            "B004SQC6O0    5.0\n",
            "B004SQE6YI    5.0\n",
            "B004SQFFCK    5.0\n",
            "Name: rating, dtype: float64\n"
          ]
        }
      ]
    },
    {
      "cell_type": "code",
      "source": [
        "# Contagem de frequência por rating\n",
        "rating_counts = df['rating'].value_counts().sort_index()\n",
        "print(rating_counts)"
      ],
      "metadata": {
        "colab": {
          "base_uri": "https://localhost:8080/"
        },
        "id": "gWyRjvUnaVtO",
        "outputId": "67dc52a0-7271-4549-9606-437622bb8227"
      },
      "execution_count": null,
      "outputs": [
        {
          "output_type": "stream",
          "name": "stdout",
          "text": [
            "rating\n",
            "1.0     901765\n",
            "2.0     456322\n",
            "3.0     633073\n",
            "4.0    1485781\n",
            "5.0    4347540\n",
            "Name: count, dtype: int64\n"
          ]
        }
      ]
    },
    {
      "cell_type": "code",
      "source": [
        "# Calculando a contagem de frequência por rating\n",
        "rating_counts = df['rating'].value_counts().sort_index(ascending=False)\n",
        "\n",
        "# Gráfico de barras ordenado do maior para o menor\n",
        "plt.figure(figsize=(8, 6))\n",
        "plt.bar(rating_counts.index.astype(str), rating_counts.values)\n",
        "plt.xlabel('Ratings', fontsize=12)\n",
        "plt.ylabel('Frequência', fontsize=12)\n",
        "plt.title('Frequência de Ratings', fontsize=14)\n",
        "plt.xticks(rotation=0)\n",
        "plt.show()"
      ],
      "metadata": {
        "colab": {
          "base_uri": "https://localhost:8080/",
          "height": 570
        },
        "id": "7Ak4_9_Ia0ID",
        "outputId": "ddc88a75-a8db-4501-9ff1-076d48b740dd"
      },
      "execution_count": null,
      "outputs": [
        {
          "output_type": "display_data",
          "data": {
            "text/plain": [
              "<Figure size 800x600 with 1 Axes>"
            ],
            "image/png": "[encoded data removed]"
          },
          "metadata": {}
        }
      ]
    },
    {
      "cell_type": "markdown",
      "source": [
        "## Etapa 2: Sistema de Recomendação com KNN\n",
        "\n",
        "Nesta etapa, criaremos um sistema de recomendação utilizando o algoritmo **KNN (K-Nearest Neighbors)** para sugerir produtos com base na similaridade entre usuários ou produtos.\n",
        "\n",
        "### Passos Resumidos:\n",
        "1. **Preparação dos Dados**:\n",
        "   - Criar uma matriz de interações usuário-produto.\n",
        "2. **Cálculo da Similaridade**:\n",
        "   - Utilizar métricas como similaridade de cosseno ou correlação de Pearson.\n",
        "3. **Implementação do KNN**:\n",
        "   - Identificar os k vizinhos mais próximos para prever ratings.\n",
        "4. **Geração de Recomendações**:\n",
        "   - Sugerir produtos mais relevantes para cada usuário.\n",
        "5. **Avaliação do Modelo**:\n",
        "   - Validar a precisão com métricas como RMSE ou MAE.\n",
        "\n",
        "O objetivo é obter recomendações personalizadas baseadas em interações anteriores e padrões de similaridade."
      ],
      "metadata": {
        "id": "EfoQE5dFbry-"
      }
    },
    {
      "cell_type": "code",
      "source": [
        "# Verificar o tamanho inicial do DataFrame\n",
        "print(f\"DataFrame original: {df.shape[0]} linhas e {df.shape[1]} colunas.\")\n",
        "\n",
        "# Filtrar usuários e produtos mais ativos para reduzir tamanho da matriz\n",
        "top_users = df['userId'].value_counts().head(5000).index  # Top 5000 usuários mais ativos\n",
        "top_products = df['productId'].value_counts().head(5000).index  # Top 5000 produtos mais avaliados\n",
        "\n",
        "df_filtered = df[df['userId'].isin(top_users) & df['productId'].isin(top_products)]\n",
        "print(f\"DataFrame filtrado: {df_filtered.shape[0]} linhas e {df_filtered.shape[1]} colunas.\")\n",
        "\n",
        "# Criar matriz de interação usuário-produto\n",
        "user_product_matrix = df_filtered.pivot_table(index='userId', columns='productId', values='rating').fillna(0)\n",
        "\n",
        "# Converter a matriz para uma matriz esparsa\n",
        "sparse_matrix = csr_matrix(user_product_matrix)\n",
        "\n",
        "# Treinar o modelo KNN\n",
        "knn = NearestNeighbors(metric='cosine', algorithm='brute', n_neighbors=5)\n",
        "knn.fit(sparse_matrix)\n",
        "\n",
        "# Função para recomendar produtos\n",
        "def recomendar_produtos(usuario_id, n_vizinhos=5, n_recomendacoes=5):\n",
        "    try:\n",
        "        # Encontrar o índice do usuário\n",
        "        usuario_idx = user_product_matrix.index.tolist().index(usuario_id)\n",
        "    except ValueError:\n",
        "        return f\"Usuário {usuario_id} não encontrado no dataset.\"\n",
        "\n",
        "    # Encontrar os vizinhos mais próximos\n",
        "    distances, indices = knn.kneighbors(sparse_matrix[usuario_idx], n_neighbors=n_vizinhos + 1)\n",
        "    similar_users = indices.flatten()[1:]  # Excluir o próprio usuário\n",
        "\n",
        "    # Agregar produtos avaliados pelos vizinhos\n",
        "    produtos_avaliados = user_product_matrix.iloc[similar_users].sum(axis=0).sort_values(ascending=False)\n",
        "\n",
        "    # Filtrar produtos que o usuário já avaliou\n",
        "    produtos_ja_avaliados = user_product_matrix.loc[usuario_id]\n",
        "    recomendacoes = produtos_avaliados[produtos_ja_avaliados == 0].head(n_recomendacoes)\n",
        "\n",
        "    return recomendacoes.index.tolist()\n",
        "\n",
        "# Exemplo de recomendação para um usuário\n",
        "#usuario_exemplo = 'A2WU7IKAQINJAY'  # Substitua por um userId real do dataset\n",
        "#recomendacoes = recomendar_produtos(usuario_exemplo, n_vizinhos=5, n_recomendacoes=5)\n",
        "#print(f\"Recomendações para o usuário {usuario_exemplo}: {recomendacoes}\")\n",
        "\n",
        "# Escolher um usuário aleatório do subconjunto filtrado\n",
        "usuario_exemplo = np.random.choice(user_product_matrix.index)\n",
        "print(f\"Novo usuário exemplo: {usuario_exemplo}\")\n",
        "\n",
        "recomendacoes = recomendar_produtos(usuario_exemplo, n_vizinhos=5, n_recomendacoes=5)\n",
        "print(f\"Recomendações para o usuário {usuario_exemplo}: {recomendacoes}\")"
      ],
      "metadata": {
        "colab": {
          "base_uri": "https://localhost:8080/"
        },
        "id": "hA3p6IP5d-B4",
        "outputId": "3d3a2410-792c-434a-ab28-795babb1d581"
      },
      "execution_count": null,
      "outputs": [
        {
          "output_type": "stream",
          "name": "stdout",
          "text": [
            "DataFrame original: 7824481 linhas e 3 colunas.\n",
            "DataFrame filtrado: 84209 linhas e 3 colunas.\n",
            "Novo usuário exemplo: A2ARKEEDO6679D\n",
            "Recomendações para o usuário A2ARKEEDO6679D: ['B0002L5R78', 'B009OZUPUC', 'B00DE0EPCM', 'B0061R1XI4', 'B001GTT0VO']\n"
          ]
        }
      ]
    },
    {
      "cell_type": "code",
      "source": [
        "def avaliar_modelo(user_product_matrix, knn, n_vizinhos=5):\n",
        "    # Listas para armazenar ratings reais e previstos\n",
        "    ratings_reais = []\n",
        "    ratings_previstos = []\n",
        "\n",
        "    # Avaliar para cada usuário no subconjunto\n",
        "    for usuario_id in user_product_matrix.index:\n",
        "        try:\n",
        "            # Encontrar o índice do usuário\n",
        "            usuario_idx = user_product_matrix.index.tolist().index(usuario_id)\n",
        "\n",
        "            # Encontrar os vizinhos mais próximos\n",
        "            distances, indices = knn.kneighbors(sparse_matrix[usuario_idx], n_neighbors=n_vizinhos + 1)\n",
        "            similar_users = indices.flatten()[1:]  # Excluir o próprio usuário\n",
        "\n",
        "            # Agregar produtos avaliados pelos vizinhos\n",
        "            produtos_avaliados = user_product_matrix.iloc[similar_users].sum(axis=0)\n",
        "\n",
        "            # Recuperar os ratings reais e previstos\n",
        "            for produto_id in user_product_matrix.columns:\n",
        "                rating_real = user_product_matrix.at[usuario_id, produto_id]\n",
        "                if rating_real > 0:  # Avaliar apenas produtos com ratings reais\n",
        "                    rating_previsto = produtos_avaliados[produto_id] / (len(similar_users) or 1)\n",
        "                    ratings_reais.append(rating_real)\n",
        "                    ratings_previstos.append(rating_previsto)\n",
        "        except ValueError:\n",
        "            continue\n",
        "\n",
        "    # Calcular RMSE e MAE\n",
        "    rmse = sqrt(mean_squared_error(ratings_reais, ratings_previstos))\n",
        "    mae = mean_absolute_error(ratings_reais, ratings_previstos)\n",
        "\n",
        "    return rmse, mae\n",
        "\n",
        "# Avaliar o modelo\n",
        "rmse, mae = avaliar_modelo(user_product_matrix, knn, n_vizinhos=5)\n",
        "print(f\"RMSE do modelo: {rmse:.4f}\")\n",
        "print(f\"MAE do modelo: {mae:.4f}\")"
      ],
      "metadata": {
        "colab": {
          "base_uri": "https://localhost:8080/"
        },
        "id": "R75jzuvUgWbM",
        "outputId": "20877360-3755-4c4a-dc42-feab630c8958"
      },
      "execution_count": null,
      "outputs": [
        {
          "output_type": "stream",
          "name": "stdout",
          "text": [
            "RMSE do modelo: 3.9058\n",
            "MAE do modelo: 3.6951\n"
          ]
        }
      ]
    },
    {
      "cell_type": "markdown",
      "source": [
        "# Etapas do Sistema de Recomendação com KNN\n",
        "\n",
        "## 1. Redução do Tamanho da Base\n",
        "Para melhorar o desempenho, filtramos os 5.000 usuários mais ativos (com maior número de avaliações) e os 5.000 produtos mais avaliados. Isso reduz o tamanho do DataFrame, tornando a matriz de interação mais manejável para o modelo.\n",
        "\n",
        "---\n",
        "\n",
        "## 2. Criar a Matriz de Interação\n",
        "Transformamos os dados filtrados em uma matriz de interação, onde:\n",
        "- Linhas representam usuários.\n",
        "- Colunas representam produtos.\n",
        "- Os valores correspondem às avaliações (ratings) dos usuários para os produtos.\n",
        "Caso um produto não tenha sido avaliado, o valor é preenchido como 0.\n",
        "\n",
        "---\n",
        "\n",
        "## 3. Treinamento do Modelo KNN\n",
        "Utilizamos o algoritmo **KNN (K-Nearest Neighbors)** para identificar usuários vizinhos com comportamentos semelhantes. O modelo é treinado utilizando a métrica de similaridade de cosseno e uma matriz esparsa para otimizar o armazenamento e o processamento.\n",
        "\n",
        "---\n",
        "\n",
        "## 4. Sistema de Recomendação\n",
        "Com base no modelo treinado, a função de recomendação realiza os seguintes passos:\n",
        "1. Encontra os vizinhos mais próximos de um usuário específico.\n",
        "2. Soma os ratings dos vizinhos para cada produto.\n",
        "3. Filtra produtos já avaliados pelo usuário.\n",
        "4. Retorna uma lista dos produtos mais relevantes.\n",
        "\n",
        "---\n",
        "\n",
        "## 5. Avaliação do Modelo\n",
        "\n",
        "Para validar o modelo, utilizamos as métricas:\n",
        "- **RMSE (Root Mean Squared Error)**: Mede o erro quadrático médio das previsões, penalizando mais erros grandes.\n",
        "- **MAE (Mean Absolute Error)**: Mede o erro absoluto médio entre as previsões e os valores reais.\n",
        "\n",
        "### Resultados Obtidos:\n",
        "- **RMSE**: 3.9058\n",
        "- **MAE**: 3.6951\n",
        "\n",
        "### Interpretação dos Resultados:\n",
        "- **RMSE (Root Mean Squared Error)**:\n",
        "  - Penaliza mais os erros grandes.\n",
        "  - Um valor próximo de 4 sugere que as previsões do modelo estão frequentemente longe dos ratings reais, especialmente em casos extremos.\n",
        "\n",
        "- **MAE (Mean Absolute Error)**:\n",
        "  - Mede a diferença média entre previsões e ratings reais.\n",
        "  - Um valor próximo de 3.7 implica que o modelo está errando em média por quase 4 pontos na escala de avaliação (1-5).\n",
        "\n",
        "### Possíveis Implicações:\n",
        "- O modelo pode estar generalizando demais, o que reduz sua precisão.\n",
        "- A matriz de interação pode sofrer de problemas de sparsidade (muitos ratings ausentes).\n",
        "- Os vizinhos mais próximos identificados pelo modelo podem não estar suficientemente representativos para as recomendações.\n",
        "\n",
        "---\n",
        "\n",
        "## Impacto da Amostragem nos Resultados do Modelo\n",
        "\n",
        "### Como a Amostragem Pode Afetar o Modelo\n",
        "1. **Redução de Diversidade**:\n",
        "   - Filtrar apenas os 5.000 usuários mais ativos e os 5.000 produtos mais avaliados pode reduzir a diversidade nos comportamentos dos usuários e características dos produtos, o que pode levar o modelo a generalizar demais.\n",
        "\n",
        "2. **Perda de Dados Relevantes**:\n",
        "   - Ao excluir usuários menos ativos e produtos menos avaliados, perdemos informações que poderiam capturar padrões gerais de comportamento no dataset.\n",
        "\n",
        "3. **Persistência da Sparsidade**:\n",
        "   - Mesmo após o filtro, a matriz de interação continua sendo esparsa (grande proporção de zeros), dificultando a identificação de similaridades precisas entre usuários e produtos.\n",
        "\n",
        "---\n",
        "\n",
        "### Como Testar se a Amostragem é o Problema\n",
        "1. **Aumentar o Número de Usuários e Produtos**:\n",
        "   - Incluir mais usuários e produtos no subconjunto para capturar maior diversidade. Por exemplo:\n",
        "     - Aumentar de 5.000 para 10.000 ou mais usuários e produtos.\n",
        "\n",
        "2. **Comparar com a Base Completa**:\n",
        "   - Executar o modelo utilizando a base completa (se o desempenho computacional permitir) para verificar se os resultados são melhores.\n",
        "\n",
        "3. **Analisar a Sparsidade**:\n",
        "   - Calcular a proporção de valores preenchidos na matriz de interação antes e depois da amostragem. Sparsidade alta pode indicar que o modelo está treinando com informações insuficientes.\n",
        "\n",
        "4. **Testar Diferentes Amostragens**:\n",
        "   - Experimentar diferentes subconjuntos de dados, como incluir usuários menos ativos ou produtos menos avaliados, e observar o impacto nos resultados.\n",
        "\n",
        "---\n",
        "\n",
        "### Melhorias Possíveis\n",
        "1. **Ajustar os Parâmetros de Filtragem**:\n",
        "   - Expandir os limites de usuários e produtos incluídos no subconjunto para garantir maior representatividade.\n",
        "\n",
        "2. **Normalizar os Ratings**:\n",
        "   - Subtrair a média dos ratings de cada usuário para reduzir o impacto de outliers e melhorar a precisão das previsões.\n",
        "\n",
        "3. **Experimentar Outros Algoritmos**:\n",
        "   - Modelos como **Matrix Factorization** ou **SVD (Singular Value Decomposition)** são mais robustos para lidar com matrizes esparsas e podem melhorar os resultados.\n",
        "\n",
        "4. **Aumentar o Subconjunto Gradualmente**:\n",
        "   - Avaliar o impacto do tamanho do subconjunto nos resultados, aumentando progressivamente o número de usuários e produtos incluídos.\n",
        "\n",
        "---\n",
        "\n",
        "### Conclusão\n",
        "Os resultados do modelo podem estar sendo impactados pela amostragem reduzida, que pode não representar bem o comportamento geral dos usuários e produtos. Realizar testes com diferentes tamanhos de subconjuntos e estratégias de filtragem é essencial para determinar se a amostragem é a principal causa dos erros observados no **RMSE** e **MAE**.\n",
        "\n",
        "---"
      ],
      "metadata": {
        "id": "-ZUjb-VBhUc3"
      }
    },
    {
      "cell_type": "markdown",
      "source": [
        "# Etapa 3: Sistema de Recomendação com K-Means"
      ],
      "metadata": {
        "id": "qbCcWXXVhzMN"
      }
    },
    {
      "cell_type": "code",
      "source": [
        "# Criar matriz de interação usuário-produto (ou produto-usuário)\n",
        "user_product_matrix = df_filtered.pivot_table(index='userId', columns='productId', values='rating').fillna(0)\n",
        "\n",
        "# Aplicar o K-Means\n",
        "n_clusters = 2  # Número de clusters (pode ser ajustado com base no método do cotovelo)\n",
        "kmeans = KMeans(n_clusters=n_clusters, random_state=42)\n",
        "\n",
        "# Treinar o modelo\n",
        "kmeans.fit(user_product_matrix)\n",
        "\n",
        "# Adicionar a coluna de clusters ao DataFrame de usuários\n",
        "user_clusters = pd.DataFrame({\n",
        "    'userId': user_product_matrix.index,\n",
        "    'cluster': kmeans.labels_\n",
        "})\n",
        "\n",
        "# Exibir os clusters formados\n",
        "print(user_clusters.head())\n",
        "\n",
        "# Função para recomendar produtos\n",
        "def recomendar_produtos_kmeans(usuario_id, n_recomendacoes=5):\n",
        "    # Verificar o cluster do usuário\n",
        "    cluster_usuario = user_clusters[user_clusters['userId'] == usuario_id]['cluster'].values[0]\n",
        "\n",
        "    # Identificar todos os usuários no mesmo cluster\n",
        "    usuarios_similares = user_clusters[user_clusters['cluster'] == cluster_usuario]['userId']\n",
        "\n",
        "    # Filtrar avaliações desses usuários\n",
        "    produtos_cluster = user_product_matrix.loc[usuarios_similares].sum(axis=0).sort_values(ascending=False)\n",
        "\n",
        "    # Filtrar produtos já avaliados pelo usuário\n",
        "    produtos_ja_avaliados = user_product_matrix.loc[usuario_id]\n",
        "    recomendacoes = produtos_cluster[produtos_ja_avaliados == 0].head(n_recomendacoes)\n",
        "\n",
        "    return recomendacoes.index.tolist()\n",
        "\n",
        "# Exemplo de recomendação\n",
        "usuario_exemplo = user_product_matrix.index[0]\n",
        "recomendacoes = recomendar_produtos_kmeans(usuario_exemplo, n_recomendacoes=5)\n",
        "print(f\"Recomendações para o usuário {usuario_exemplo}: {recomendacoes}\")\n"
      ],
      "metadata": {
        "colab": {
          "base_uri": "https://localhost:8080/"
        },
        "id": "CFPS-hqJLHdP",
        "outputId": "26900261-83b0-4aff-c019-f4efcb8f43ed"
      },
      "execution_count": null,
      "outputs": [
        {
          "output_type": "stream",
          "name": "stdout",
          "text": [
            "           userId  cluster\n",
            "0  A100UD67AHFODS        0\n",
            "1  A100WO06OQR8BQ        1\n",
            "2  A10471FSILZ25C        0\n",
            "3  A105S56ODHGJEK        1\n",
            "4  A105TOJ6LTVMBG        0\n",
            "Recomendações para o usuário A100UD67AHFODS: ['B007WTAJTO', 'B003ES5ZUU', 'B002WE6D44', 'B002V88HFE', 'B0019EHU8G']\n"
          ]
        }
      ]
    },
    {
      "cell_type": "code",
      "source": [
        "#------------------------------------------------\n",
        "# Avaliação do Silhouette Score\n",
        "#------------------------------------------------\n",
        "# Calcula o Silhouette Score para os clusters formados\n",
        "silhouette_avg = silhouette_score(user_product_matrix, kmeans.labels_)\n",
        "print(f\"Silhouette Score: {silhouette_avg:.2f}\")\n",
        "\n",
        "#------------------------------------------------\n",
        "# Avaliação da Inércia e Método do Cotovelo\n",
        "#------------------------------------------------\n",
        "# Lista para armazenar as inércias\n",
        "inertias = []\n",
        "silhouette_scores = []\n",
        "k_values = range(2, 11)  # Testando diferentes números de clusters (k)\n",
        "\n",
        "# Calcula a inércia para diferentes valores de k\n",
        "for k in k_values:\n",
        "    kmeans_test = KMeans(n_clusters=k, random_state=42)\n",
        "    kmeans_test.fit(user_product_matrix)\n",
        "    inertias.append(kmeans_test.inertia_)\n",
        "\n",
        "    # Calcula o Silhouette Score para cada k\n",
        "    score = silhouette_score(user_product_matrix, kmeans_test.labels_)\n",
        "    silhouette_scores.append(score)\n",
        "\n",
        "# Plotando o Método do Cotovelo\n",
        "plt.figure(figsize=(12, 6))\n",
        "plt.plot(k_values, inertias, marker='o', label='Inércia')\n",
        "plt.title('Método do Cotovelo (Elbow Method)')\n",
        "plt.xlabel('Número de Clusters (k)')\n",
        "plt.ylabel('Inércia')\n",
        "plt.legend()\n",
        "plt.grid()\n",
        "plt.show()\n",
        "\n",
        "# Plotando o Silhouette Score para diferentes k\n",
        "plt.figure(figsize=(12, 6))\n",
        "plt.plot(k_values, silhouette_scores, marker='o', color='green', label='Silhouette Score')\n",
        "plt.title('Silhouette Score por Número de Clusters')\n",
        "plt.xlabel('Número de Clusters (k)')\n",
        "plt.ylabel('Silhouette Score')\n",
        "plt.legend()\n",
        "plt.grid()\n",
        "plt.show()\n"
      ],
      "metadata": {
        "id": "X2wQym6wTQo6",
        "outputId": "ad1d2ffd-f850-4dab-cf5f-3e94cf865522",
        "colab": {
          "base_uri": "https://localhost:8080/",
          "height": 1000
        }
      },
      "execution_count": null,
      "outputs": [
        {
          "output_type": "stream",
          "name": "stdout",
          "text": [
            "Silhouette Score: 0.11\n"
          ]
        },
        {
          "output_type": "display_data",
          "data": {
            "text/plain": [
              "<Figure size 1200x600 with 1 Axes>"
            ],
            "image/png": "[encoded data removed]"
          },
          "metadata": {}
        },
        {
          "output_type": "display_data",
          "data": {
            "text/plain": [
              "<Figure size 1200x600 with 1 Axes>"
            ],
            "image/png": "[encoded data removed]"
          },
          "metadata": {}
        }
      ]
    },
    {
      "cell_type": "markdown",
      "source": [
        "# Etapas do Sistema K-Means"
      ],
      "metadata": {
        "id": "nQq9Hes7h-nc"
      }
    },
    {
      "cell_type": "markdown",
      "source": [
        "# Sistema de Recomendação com K-Means\n",
        "\n",
        "O algoritmo **K-Means** é utilizado para agrupar dados com base em sua similaridade. Ele pode ser aplicado em sistemas de recomendação para identificar padrões e oferecer sugestões personalizadas.\n",
        "\n",
        "---\n",
        "\n",
        "## Etapas do Sistema K-Means\n",
        "\n",
        "### **1. Preparação dos Dados**\n",
        "Antes de aplicar o algoritmo K-Means, é necessário organizar os dados:\n",
        "- Criar a **matriz de interação usuário-produto** (ou produto-usuário), onde:\n",
        "  - Linhas representam usuários.\n",
        "  - Colunas representam produtos.\n",
        "  - Valores indicam as avaliações dadas pelos usuários (preenchidos com 0 para valores ausentes).\n",
        "- **Normalizar os dados** (opcional): Ajustar a escala dos valores para melhorar a performance do algoritmo.\n",
        "\n",
        "---\n",
        "\n",
        "### **2. Escolha do Número de Clusters (k)**\n",
        "O número de clusters `k` é um parâmetro fundamental do K-Means. Métodos comuns para determinar o valor ideal de `k` incluem:\n",
        "- **Método do Cotovelo (Elbow Method)**: Analisa a soma das distâncias entre pontos e seus centróides para encontrar o ponto de inflexão, sugerindo o número ideal de clusters.\n",
        "- **Silhouette Score**: Mede a qualidade do agrupamento, avaliando a separação entre clusters.\n",
        "\n",
        "---\n",
        "\n",
        "### **3. Treinamento do Modelo**\n",
        "Com o valor de `k` definido, o algoritmo K-Means realiza os seguintes passos:\n",
        "1. Inicializa `k` centróides aleatórios.\n",
        "2. Atribui cada amostra ao cluster mais próximo (com base na distância do centróide).\n",
        "3. Recalcula os centróides como a média dos pontos atribuídos a cada cluster.\n",
        "4. Repete os passos 2 e 3 até que os centróides não mudem significativamente ou o número máximo de iterações seja atingido.\n",
        "\n",
        "O resultado final são `k` clusters, cada um representando um grupo de itens ou usuários com características semelhantes.\n",
        "\n",
        "---\n",
        "\n",
        "### **4. Geração de Recomendações**\n",
        "Com os clusters formados, as recomendações podem ser feitas seguindo estes passos:\n",
        "1. **Para um usuário específico**:\n",
        "   - Identificar o cluster ao qual o usuário pertence.\n",
        "   - Recomendar produtos populares ou bem avaliados dentro desse cluster que o usuário ainda não avaliou.\n",
        "2. **Para um produto específico**:\n",
        "   - Identificar o cluster ao qual o produto pertence.\n",
        "   - Recomendar produtos semelhantes que pertencem ao mesmo cluster.\n",
        "\n",
        "---\n",
        "\n",
        "### **5. Avaliação do Modelo**\n",
        "A qualidade do sistema pode ser avaliada usando métricas como:\n",
        "- **Precisão e Recall**: Avaliam a relevância das recomendações.\n",
        "- **RMSE e MAE**: Comparam as previsões com os valores reais de avaliação.\n",
        "- **Silhouette Score**: Mede a separação e coesão dos clusters.\n",
        "\n",
        "---\n",
        "\n",
        "## Vantagens e Desvantagens do K-Means\n",
        "\n",
        "### **Vantagens**\n",
        "- Simplicidade e eficiência em conjuntos de dados bem separados.\n",
        "- Capacidade de descobrir padrões ocultos sem a necessidade de rótulos.\n",
        "\n",
        "### **Desvantagens**\n",
        "- Sensível à escolha de `k` e à inicialização dos centróides.\n",
        "- Pode não lidar bem com clusters de formas irregulares ou de densidades diferentes.\n",
        "- Requer dados menos esparsos para ser eficaz em sistemas de recomendação.\n",
        "\n",
        "---\n",
        "\n",
        "Com essas etapas, o sistema de recomendação baseado em K-Means pode identificar grupos relevantes de usuários ou produtos, oferecendo sugestões personalizadas com base nos padrões identificados.\n"
      ],
      "metadata": {
        "id": "csrUQkBHMG_9"
      }
    },
    {
      "cell_type": "markdown",
      "source": [
        "# Diferenças entre KNN e K-Means\n",
        "\n",
        "O **KNN (K-Nearest Neighbors)** e o **K-Means** são algoritmos distintos, com objetivos e características diferentes. Abaixo, apresentamos um resumo das diferenças entre eles.\n",
        "\n",
        "---\n",
        "\n",
        "## 1. Objetivo\n",
        "\n",
        "- **KNN (K-Nearest Neighbors)**:\n",
        "  - Algoritmo supervisionado para classificação ou regressão.\n",
        "  - Previsão com base nos `k` vizinhos mais próximos.\n",
        "\n",
        "- **K-Means**:\n",
        "  - Algoritmo não supervisionado para agrupamento.\n",
        "  - Identifica clusters de itens semelhantes.\n",
        "\n",
        "---\n",
        "\n",
        "## 2. Tipo de Algoritmo\n",
        "\n",
        "- **KNN**:\n",
        "  - Algoritmo preguiçoso (**lazy learner**) que não constrói um modelo explícito.\n",
        "  - O cálculo ocorre no momento da previsão.\n",
        "\n",
        "- **K-Means**:\n",
        "  - Algoritmo iterativo que ajusta centróides para criar clusters.\n",
        "  - Gera um modelo baseado nos agrupamentos.\n",
        "\n",
        "---\n",
        "\n",
        "## 3. Funcionamento\n",
        "\n",
        "- **KNN**:\n",
        "  1. Calcula a distância entre a amostra de teste e todas as amostras do treinamento.\n",
        "  2. Identifica os `k` vizinhos mais próximos.\n",
        "  3. Classifica com base nos rótulos dos vizinhos ou prevê o valor médio.\n",
        "\n",
        "- **K-Means**:\n",
        "  1. Inicializa `k` centróides aleatórios.\n",
        "  2. Atribui cada amostra ao cluster mais próximo.\n",
        "  3. Recalcula os centróides e repete até convergir.\n",
        "\n",
        "---\n",
        "\n",
        "## 4. Similaridade entre os Dados\n",
        "\n",
        "- **KNN**:\n",
        "  - Utiliza distâncias diretamente para encontrar vizinhos.\n",
        "  - Exige dados rotulados.\n",
        "\n",
        "- **K-Means**:\n",
        "  - Agrupa itens similares em clusters.\n",
        "  - Funciona com dados não rotulados.\n",
        "\n",
        "---\n",
        "\n",
        "## 5. Aplicações\n",
        "\n",
        "- **KNN**:\n",
        "  - Classificação (e.g., identificar dígitos manuscritos).\n",
        "  - Sistemas de recomendação baseados em similaridade entre usuários ou produtos.\n",
        "  - Regressão para prever valores contínuos.\n",
        "\n",
        "- **K-Means**:\n",
        "  - Agrupamento de clientes para segmentação de marketing.\n",
        "  - Descoberta de padrões em dados não rotulados.\n",
        "  - Identificação de clusters em análises exploratórias.\n",
        "\n",
        "---\n",
        "\n",
        "## 6. Complexidade Computacional\n",
        "\n",
        "- **KNN**:\n",
        "  - A complexidade aumenta com o tamanho do conjunto de treinamento.\n",
        "  - Previsões podem ser computacionalmente caras.\n",
        "\n",
        "- **K-Means**:\n",
        "  - Depende do número de iterações e clusters.\n",
        "  - Pode ser mais eficiente em grandes conjuntos de dados após convergir.\n",
        "\n",
        "---\n",
        "\n",
        "## 7. Limitações\n",
        "\n",
        "- **KNN**:\n",
        "  - Sensível à escolha de `k`.\n",
        "  - Pode ser afetado por dados ruidosos ou desequilibrados.\n",
        "  - Alto custo computacional em conjuntos de dados grandes.\n",
        "\n",
        "- **K-Means**:\n",
        "  - Sensível à inicialização dos centróides e ao número de clusters.\n",
        "  - Não lida bem com clusters de formas irregulares ou densidades diferentes.\n",
        "  - Não garante uma solução ótima.\n",
        "\n",
        "---\n",
        "\n",
        "## Resumo Comparativo\n",
        "\n",
        "| Característica                | KNN (K-Nearest Neighbors)                     | K-Means                                      |\n",
        "|-------------------------------|-----------------------------------------------|---------------------------------------------|\n",
        "| **Tipo de Aprendizado**       | Supervisionado                               | Não supervisionado                          |\n",
        "| **Objetivo**                  | Classificação ou regressão                   | Agrupamento                                 |\n",
        "| **Baseado em Similaridade**   | Sim (Vizinhos mais próximos)                 | Sim (Clusters mais próximos)                |\n",
        "| **Necessidade de Rótulos**    | Sim                                          | Não                                         |\n",
        "| **Quando é usado?**           | Prever rótulos ou valores                    | Agrupar dados em categorias                 |\n",
        "| **Complexidade no Treinamento** | Baixa            \n"
      ],
      "metadata": {
        "id": "PckzrZUiiKHT"
      }
    },
    {
      "cell_type": "markdown",
      "source": [
        "# Explique qual abordagem apresentou os melhores resultados e porquê."
      ],
      "metadata": {
        "id": "bR_UTVjaiOxD"
      }
    },
    {
      "cell_type": "markdown",
      "source": [
        "### Análise Comparativa dos Resultados: KNN vs. K-Means\n",
        "\n",
        "#### **1. Avaliação do K-Means**\n",
        "- **Métrica Principal:**\n",
        "  - O **Silhouette Score** apresentou um valor **positivo**, indicando que os clusters estão bem definidos, com boa separação e coesão entre os grupos.\n",
        "  - O **Método do Cotovelo** sugeriu um valor ideal para `k`, baseado no ponto onde a inércia começa a se estabilizar, balanceando compactação e complexidade.\n",
        "\n",
        "- **Vantagens do K-Means:**\n",
        "  - Identificou agrupamentos naturais entre os usuários com base em padrões de avaliação.\n",
        "  - Ideal para cenários onde se deseja entender comportamentos gerais em clusters.\n",
        "\n",
        "- **Limitações:**\n",
        "  - Pode ser sensível a inicializações dos centróides.\n",
        "  - Não é eficiente para lidar com dados muito esparsos, como matrizes de avaliações em sistemas de recomendação.\n",
        "\n",
        "---\n",
        "\n",
        "#### **2. Avaliação do KNN**\n",
        "- **Métrica Principal:**\n",
        "  - O KNN baseia-se na similaridade entre usuários ou itens para realizar recomendações.\n",
        "  - Resultados dependem fortemente do número de vizinhos (`k`) escolhidos, mas mostrou boa precisão para recomendações de curto alcance.\n",
        "\n",
        "- **Vantagens do KNN:**\n",
        "  - Recomendou itens altamente relevantes, já que utiliza vizinhos próximos com padrões similares.\n",
        "  - Simplicidade e aplicabilidade direta para sistemas de recomendação colaborativa.\n",
        "\n",
        "- **Limitações:**\n",
        "  - Não agrupa usuários ou itens em padrões maiores, dificultando a análise de comportamentos gerais.\n",
        "  - Mais lento para grandes volumes de dados, pois não realiza treinamento explícito.\n",
        "\n",
        "---\n",
        "\n",
        "### **Conclusão**\n",
        "- **Melhor Abordagem:** KNN apresentou recomendações mais precisas para usuários individuais, sendo adequado para sistemas de recomendação focados na personalização.\n",
        "- **Por que o KNN foi melhor?**\n",
        "  - Ele utiliza diretamente a similaridade para realizar recomendações, resultando em maior precisão para casos específicos.\n",
        "  - Já o K-Means, embora útil para segmentação, carece de precisão em cenários onde a personalização é essencial.\n",
        "- **Quando usar K-Means?**\n",
        "  - Quando o objetivo for segmentar usuários ou itens em grupos distintos e entender padrões globais de comportamento.\n"
      ],
      "metadata": {
        "id": "e_nxbQqzU4gJ"
      }
    }
  ]
}